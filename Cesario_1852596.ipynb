{
 "cells": [
  {
   "cell_type": "markdown",
   "id": "0759ede0-836a-4b10-bb7e-51ee4e225868",
   "metadata": {},
   "source": [
    "Laura Thoft Cesario  \n",
    "Homework 1 - ADM"
   ]
  },
  {
   "cell_type": "markdown",
   "id": "5a6c11f4-ecb5-4c01-ad95-ddaa8c1cbdaf",
   "metadata": {},
   "source": [
    "PROBLEM 1:"
   ]
  },
  {
   "cell_type": "code",
   "execution_count": null,
   "id": "d3a13017-f5d1-4dcb-ab71-1e697e5d00e6",
   "metadata": {},
   "outputs": [],
   "source": [
    "# Say \"Hello, World!\" With Python\n",
    "print(\"Hello, World!\")"
   ]
  },
  {
   "cell_type": "code",
   "execution_count": null,
   "id": "babdea24-0744-4283-88b2-e17a053b3cd4",
   "metadata": {},
   "outputs": [],
   "source": [
    "# Python If-Else\n",
    "n= int (input())\n",
    "if n%2==1 :\n",
    "    print (\"Weird\")\n",
    "elif n%2 ==0 and 2<=n<=5 :\n",
    "    print (\"Not Weird\")\n",
    "elif n%2==0 and  6<=n<=20 :\n",
    "    print (\"Weird\")\n",
    "else :\n",
    "    print (\"Not Weird\")"
   ]
  },
  {
   "cell_type": "code",
   "execution_count": null,
   "id": "3982939d-c422-4092-a708-14a3e8672b85",
   "metadata": {},
   "outputs": [],
   "source": [
    "#Arithmetic Operators\n",
    "a= int(input())\n",
    "b=int(input())\n",
    "\n",
    "print(a+b)\n",
    "print(a-b)\n",
    "print (a*b)"
   ]
  },
  {
   "cell_type": "code",
   "execution_count": null,
   "id": "fa4e004e-8dbc-481c-80d0-583ab769fd2d",
   "metadata": {},
   "outputs": [],
   "source": [
    "# Python: Division\n",
    "if __name__ == '__main__':\n",
    "    a = int(input())\n",
    "    b = int(input())\n",
    "\n",
    "    print(int (a/b))\n",
    "    print (float(a/b))"
   ]
  },
  {
   "cell_type": "code",
   "execution_count": null,
   "id": "6af0d4a2-90e5-43a4-9ffd-b4e8167da0f9",
   "metadata": {},
   "outputs": [],
   "source": [
    "# Loops\n",
    "if __name__ == '__main__':\n",
    "    n = int(input())\n",
    "    i=0\n",
    "    while (i<n):\n",
    "        print(i**2)\n",
    "        i=i+1"
   ]
  },
  {
   "cell_type": "code",
   "execution_count": null,
   "id": "66326531-db79-4667-8403-7ad4dcece2af",
   "metadata": {},
   "outputs": [],
   "source": [
    "#Print Function\n",
    "if __name__ == '__main__':\n",
    "    n = int(input())\n",
    "    for i in range (1,n+1):\n",
    "        print (i,end=\"\")"
   ]
  },
  {
   "cell_type": "code",
   "execution_count": null,
   "id": "1110359d-e590-4066-b4d3-642a093e5b9e",
   "metadata": {},
   "outputs": [],
   "source": [
    "# List Comprehensions\n",
    "if __name__ == '__main__':\n",
    "    x = int(input())\n",
    "    y = int(input())\n",
    "    z = int(input())\n",
    "    n = int(input())\n",
    "sol=[]\n",
    "abc=[]\n",
    "for X in range(x+1):\n",
    "    for Y in range (y+1):\n",
    "        for Z in range(z+1):\n",
    "            if X+Y+Z != n:\n",
    "                sol.append([X,Y,Z])\n",
    "            \n",
    "print(sol)"
   ]
  },
  {
   "cell_type": "code",
   "execution_count": null,
   "id": "ce65a62d-4e2a-4f79-9675-c18d916925a6",
   "metadata": {},
   "outputs": [],
   "source": [
    "#What's Your Name?\n",
    "def print_full_name(first, last):\n",
    "    print(\"Hello \"+ first_name, last_name +\"! You just delved into python.\")"
   ]
  },
  {
   "cell_type": "code",
   "execution_count": null,
   "id": "b5121d45-e21d-42f5-9e05-8d4d54b4f859",
   "metadata": {},
   "outputs": [],
   "source": [
    "# String Split and Join\n",
    "def split_and_join(line):\n",
    "    # write your code here\n",
    "    line=line.split()\n",
    "    line=\"-\".join(line)\n",
    "    return line\n",
    "\n",
    "if __name__ == '__main__':\n",
    "    line = input()\n",
    "    result = split_and_join(line)\n",
    "    print(result)\n"
   ]
  },
  {
   "cell_type": "code",
   "execution_count": null,
   "id": "7ad13e6d-78c6-4b2a-a1ae-917485e01fb8",
   "metadata": {},
   "outputs": [],
   "source": [
    "# Mutations\n",
    "def mutate_string(string, position, character):\n",
    "    \n",
    "    string=string[:position]+ character+ string[position+1:]\n",
    "    return string"
   ]
  },
  {
   "cell_type": "code",
   "execution_count": null,
   "id": "e52f4df3-cad0-4f8a-8e7e-3915b1af948e",
   "metadata": {},
   "outputs": [],
   "source": [
    "# Find a string\n",
    "def count_substring(string, sub_string):\n",
    "    count=0\n",
    "    if 1<=len(string)<=200 :\n",
    "         for i in range (len(string)):\n",
    "             if string[i:i+len(sub_string)]==sub_string:\n",
    "                count+=1\n",
    "    return count"
   ]
  },
  {
   "cell_type": "code",
   "execution_count": null,
   "id": "d63cf11e-62ac-40c7-96d5-70d331f530db",
   "metadata": {},
   "outputs": [],
   "source": [
    "# String Validators\n",
    "if __name__ == '__main__':\n",
    "    s = input()\n",
    "    if 0<len(s)<1000 :\n",
    "        alnum=False\n",
    "        alpha=False\n",
    "        digit=False\n",
    "        lower=False\n",
    "        upper=False\n",
    "        for i in s:\n",
    "            if  i.isalnum():\n",
    "                alnum=True   \n",
    "            if i.isalpha():\n",
    "                alpha=True\n",
    "            if  i.isdigit():\n",
    "                digit=True\n",
    "            if i.islower():\n",
    "                lower=True\n",
    "            if i.isupper():\n",
    "                upper=True\n",
    "        print(alnum)\n",
    "        print(alpha)\n",
    "        print(digit)\n",
    "        print(lower) \n",
    "        print(upper)"
   ]
  },
  {
   "cell_type": "code",
   "execution_count": null,
   "id": "80bf3ebc-882e-41af-8a31-2ce0db4bd79c",
   "metadata": {},
   "outputs": [],
   "source": [
    "# Text Alignment\n",
    "#Replace all ______ with rjust, ljust or center. \n",
    "\n",
    "thickness = int(input()) #This must be an odd number\n",
    "c = 'H'\n",
    "\n",
    "#Top Cone\n",
    "for i in range(thickness):\n",
    "    print((c*i).rjust(thickness-1)+c+(c*i).ljust(thickness-1))\n",
    "\n",
    "#Top Pillars\n",
    "for i in range(thickness+1):\n",
    "    print((c*thickness).center(thickness*2)+(c*thickness).center(thickness*6))\n",
    "\n",
    "#Middle Belt\n",
    "for i in range((thickness+1)//2):\n",
    "    print((c*thickness*5).center(thickness*6))    \n",
    "\n",
    "#Bottom Pillars\n",
    "for i in range(thickness+1):\n",
    "    print((c*thickness).center(thickness*2)+(c*thickness).center(thickness*6))    \n",
    "\n",
    "#Bottom Cone\n",
    "for i in range(thickness):\n",
    "    print(((c*(thickness-i-1)).rjust(thickness)+c+(c*(thickness-i-1)).ljust(thickness)).rjust(thickness*6))"
   ]
  },
  {
   "cell_type": "code",
   "execution_count": null,
   "id": "7fdf47df-816f-4c4f-b76c-5341f6d40abd",
   "metadata": {},
   "outputs": [],
   "source": [
    "# Text Wrap\n",
    "def wrap(string, max_width):\n",
    "    if 0<len(string)<1000 and 0<max_width<len(string) :\n",
    "               result=textwrap.fill(string , max_width)\n",
    "    return result"
   ]
  },
  {
   "cell_type": "code",
   "execution_count": null,
   "id": "33ac5073-210d-46b2-92c6-7ad7a7b75b99",
   "metadata": {},
   "outputs": [],
   "source": [
    "# sWAP cASE\n",
    "def swap_case(s):\n",
    "    l=s.lower()\n",
    "    u=s.upper()\n",
    "    result=\"\"\n",
    "    for i in range(len(s)):\n",
    "        if s[i]==l[i]:\n",
    "            result+=s[i].upper()\n",
    "        elif s[i]==u[i]:\n",
    "            result+=s[i].lower()\n",
    "    return result"
   ]
  },
  {
   "cell_type": "code",
   "execution_count": null,
   "id": "cda158b3-50ef-4181-a3ba-017428aaef9b",
   "metadata": {},
   "outputs": [],
   "source": [
    "# Designer Door Mat\n",
    "n, m = map(int, input().split())\n",
    "if 5<n<101 and 15<m<303 :\n",
    "    for i in range(1, n, 2):\n",
    "        print(int((m - 3 * i) / 2) * \"-\" + (i * \".|.\") + int((m - 3 * i) / 2) * \"-\")\n",
    "    print(int((m - 7) / 2) * \"-\" + \"WELCOME\" + int((m - 7) / 2) * \"-\")\n",
    "    for i in range(n - 2, -1, -2):\n",
    "        print(int((m - 3 * i) / 2) * \"-\" + (i * \".|.\") + int((m - 3 * i) / 2) * \"-\")"
   ]
  },
  {
   "cell_type": "code",
   "execution_count": null,
   "id": "dcfda7ef-ed71-4edc-a96c-83b646eac015",
   "metadata": {},
   "outputs": [],
   "source": [
    "# String Formatting\n",
    "def print_formatted(number):\n",
    "    # your code goes here\n",
    "    if 1<=n<=99 :\n",
    "        width = len(bin(number)[2:])\n",
    "        for i in range(1, number + 1):\n",
    "            o = oct(i)[2:]\n",
    "            h = hex(i)[2:]\n",
    "            h = h.upper()\n",
    "            b = bin(i)[2:]\n",
    "            d = str(i)\n",
    "            print(f\"{d:>{width}} {o:>{width}} {h:>{width}} {b:>{width}}\")"
   ]
  },
  {
   "cell_type": "code",
   "execution_count": null,
   "id": "e31601e3-f560-409d-8265-c3df119283b0",
   "metadata": {},
   "outputs": [],
   "source": [
    "# The Minion Game\n",
    "def minion_game(string):\n",
    "    # your code goes here\n",
    "    vowel_list = [\"A\", \"E\", \"I\", \"O\", \"U\"]\n",
    "    s_point = 0\n",
    "    k_point = 0\n",
    "    for i in range(len(string)):\n",
    "        if s[i] in vowel_list:\n",
    "            k_point += len(string) - i\n",
    "        else:\n",
    "            s_point += len(string) - i\n",
    "    if s_point == k_point:\n",
    "        print(\"Draw\")\n",
    "    elif k_point > s_point:\n",
    "        print(\"Kevin\", k_point)\n",
    "    else:\n",
    "        print(\"Stuart\", s_point)"
   ]
  },
  {
   "cell_type": "code",
   "execution_count": null,
   "id": "bd89b2a1-3b57-4f00-ad91-c99b5ece87be",
   "metadata": {},
   "outputs": [],
   "source": [
    "# Finding the percentage\n",
    "if __name__ == '__main__':\n",
    "    n = int(input())\n",
    "    student_marks = {}\n",
    "    for _ in range(n):\n",
    "        name, *line = input().split()\n",
    "        scores = list(map(float, line))\n",
    "        student_marks[name] = scores\n",
    "    query_name = input()\n",
    "    average=sum(student_marks[query_name])/3\n",
    "    print (f\"{average:.2f}\")"
   ]
  },
  {
   "cell_type": "code",
   "execution_count": null,
   "id": "6f681631-2ced-4fc7-8a20-2d77349e0f64",
   "metadata": {},
   "outputs": [],
   "source": [
    "#Lists\n",
    "if __name__ == '__main__':\n",
    "    N = int(input())\n",
    "    arr=[]\n",
    "    for i in range(N) :\n",
    "        c=input().split() \n",
    "        if (c[0]==\"print\"):\n",
    "            print(arr)\n",
    "        elif (c[0]==\"sort\"):  \n",
    "            arr.sort()\n",
    "        elif (c[0]==\"pop\"):\n",
    "            arr.pop()\n",
    "        elif (c[0]==\"reverse\"):\n",
    "            arr.reverse()\n",
    "        elif (c[0]==\"insert\"):\n",
    "            p=int(c[1])\n",
    "            value=int(c[2])\n",
    "            arr.insert(p,value)\n",
    "        elif (c[0]==\"remove\"):\n",
    "            arr.remove(int(c[1]))\n",
    "        elif (c[0]==\"append\"):\n",
    "            arr.append(int(c[1]))"
   ]
  },
  {
   "cell_type": "code",
   "execution_count": null,
   "id": "11d67c43-cf69-44b4-896f-21158659dfc2",
   "metadata": {},
   "outputs": [],
   "source": [
    "# Write a function\n",
    "def is_leap(year):\n",
    "    leap = False\n",
    "    # Write your logic here\n",
    "    if(year%4)==0:\n",
    "        if(year%100)==0:\n",
    "            if(year%400)==0:\n",
    "                leap=True\n",
    "                \n",
    "        else:\n",
    "            leap=True\n",
    "    return leap"
   ]
  },
  {
   "cell_type": "code",
   "execution_count": null,
   "id": "5e93666d-bae4-4385-b38a-9389c91ec340",
   "metadata": {},
   "outputs": [],
   "source": [
    "# Find the Runner-Up Score!\n",
    "if __name__ == '__main__':\n",
    "    n = int(input())\n",
    "    arr = map(int, input().split())\n",
    "    arr=list(arr)\n",
    "    maximum=max(arr)\n",
    "    new = [i for i in arr if i != maximum]\n",
    "    new.sort()\n",
    "    print(new[-1])"
   ]
  },
  {
   "cell_type": "code",
   "execution_count": 3,
   "id": "36d3b6ea-c3ed-4929-bd96-ceda4f85fe13",
   "metadata": {},
   "outputs": [],
   "source": [
    "# Arrays\n",
    "def arrays(arr):\n",
    "    # complete this function\n",
    "    # use numpy.array\n",
    "    new = numpy.array(arr,float)\n",
    "    new=new[::-1]\n",
    "    return new"
   ]
  },
  {
   "cell_type": "code",
   "execution_count": null,
   "id": "74a9368d-2ada-4adb-ad30-dbac109479c8",
   "metadata": {},
   "outputs": [],
   "source": [
    "# Shape and Reshape\n",
    "import numpy\n",
    "arr=list(map(int,input().split()))\n",
    "new=numpy.array(arr)\n",
    "print(numpy.reshape(new,(3,3)))"
   ]
  },
  {
   "cell_type": "code",
   "execution_count": null,
   "id": "04f32a92-a34c-4c28-97fc-396ce4ba4f6d",
   "metadata": {},
   "outputs": [],
   "source": [
    "# Transpose and Flatten\n",
    "import numpy\n",
    "d=list(map(int,input().split()))\n",
    "arr=[]\n",
    "for i in range(d[0]):\n",
    "    row=list(map(int,input().split()))\n",
    "    arr.append(row)\n",
    "new=numpy.array(arr)\n",
    "print(numpy.transpose(new))\n",
    "print(new.flatten())\n"
   ]
  },
  {
   "cell_type": "code",
   "execution_count": null,
   "id": "3ba1acc3-f0ec-4e44-b334-73de994fb0a9",
   "metadata": {},
   "outputs": [],
   "source": [
    "# Concatenate\n",
    "import numpy\n",
    "d=list(map(int,input().split()))\n",
    "arr1=[]\n",
    "arr2=[]\n",
    "for i in range(d[0]):\n",
    "    row=list(map(int,input().split()))\n",
    "    arr1.append(row)\n",
    "new1=numpy.array(arr1)\n",
    "for i in range(d[1]):\n",
    "    row=list(map(int,input().split()))\n",
    "    arr2.append(row)    \n",
    "new2=numpy.array(arr2)\n",
    "print(numpy.concatenate((arr1,arr2),axis=0))"
   ]
  },
  {
   "cell_type": "code",
   "execution_count": null,
   "id": "1c1b0001-3991-482f-8cb3-aa8619e5dd0e",
   "metadata": {},
   "outputs": [],
   "source": [
    "# Zeros and Onesimport numpy\n",
    "d=list(map(int,input().split()))\n",
    "\n",
    "print(numpy.zeros((d),int))\n",
    "print(numpy.ones((d),int))\n",
    "    "
   ]
  },
  {
   "cell_type": "code",
   "execution_count": null,
   "id": "871e3e63-6942-40d0-a7a7-e21b475ed2d0",
   "metadata": {},
   "outputs": [],
   "source": [
    "# Eye and Identity\n",
    "import numpy\n",
    "numpy.set_printoptions(legacy='1.13')\n",
    "\n",
    "d=list(map(int,input().split()))\n",
    "print(numpy.eye(d[0],d[1],k=0))"
   ]
  },
  {
   "cell_type": "code",
   "execution_count": null,
   "id": "582fa6c7-8964-4d08-938b-e9988339b1be",
   "metadata": {},
   "outputs": [],
   "source": [
    "# Array Mathematics\n",
    "import numpy\n",
    "d=list(map(int, input().split()))\n",
    "arr1=[]\n",
    "arr2=[]\n",
    "for i in range(d[0]):\n",
    "    row=list(map(int,input().split()))\n",
    "    arr1.append(row)\n",
    "new1=numpy.array(arr1,float)\n",
    "for i in range(d[0]):\n",
    "    row=list(map(int,input().split()))\n",
    "    arr2.append(row)\n",
    "new2=numpy.array(arr2,float)\n",
    "print (numpy.add(arr1,arr2))\n",
    "print (numpy.subtract(arr1,arr2))\n",
    "print (numpy.multiply(arr1,arr2))\n",
    "print (numpy.floor_divide(arr1,arr2))\n",
    "print (numpy.mod(arr1,arr2))\n",
    "print (numpy.power(arr1,arr2))"
   ]
  },
  {
   "cell_type": "code",
   "execution_count": null,
   "id": "82711063-6128-4203-9d19-4c90a200277a",
   "metadata": {},
   "outputs": [],
   "source": [
    "#Floor, Ceil and Rint\n",
    "import numpy\n",
    "numpy.set_printoptions(legacy='1.13')\n",
    "arr=list(map(float,input().split()))\n",
    "print (numpy.floor(arr))\n",
    "print (numpy.ceil(arr))\n",
    "print (numpy.rint(arr))"
   ]
  },
  {
   "cell_type": "code",
   "execution_count": null,
   "id": "6448d1f5-1e6f-4463-a14d-9b5bfb8e80b9",
   "metadata": {},
   "outputs": [],
   "source": [
    "#Sum and Prod\n",
    "import numpy\n",
    "d=list(map(int,input().split()))\n",
    "arr=[]\n",
    "for i in range(d[0]):\n",
    "    row=list(map(int,input().split()))\n",
    "    arr.append(row)\n",
    "new=numpy.array(arr)\n",
    "print(numpy.prod(numpy.sum(arr,axis=0)))"
   ]
  },
  {
   "cell_type": "code",
   "execution_count": null,
   "id": "7bcf8c4f-3bd3-4491-85de-4b176376c88f",
   "metadata": {},
   "outputs": [],
   "source": [
    "#Min and Max\n",
    "import numpy\n",
    "d=list(map(int,input().split()))\n",
    "arr=[]\n",
    "for i in range(d[0]):\n",
    "    row=list(map(int,input().split()))\n",
    "    arr.append(row)\n",
    "new=numpy.array(arr)\n",
    "print(numpy.max(numpy.min(new,axis=1)))"
   ]
  },
  {
   "cell_type": "code",
   "execution_count": null,
   "id": "65dbea2d-e37a-41f9-8a19-f4f333fabc9e",
   "metadata": {},
   "outputs": [],
   "source": [
    "#Mean, Var, and Std\n",
    "import numpy\n",
    "d=list(map(int,input().split()))\n",
    "arr=[]\n",
    "for i in range(d[0]):\n",
    "    row=list(map(int,input().split()))\n",
    "    arr.append(row)\n",
    "new=numpy.array(arr)\n",
    "print (numpy.mean(new, axis = 1))\n",
    "print (numpy.var(new, axis = 0))\n",
    "print (round(numpy.std(new),11))"
   ]
  },
  {
   "cell_type": "code",
   "execution_count": null,
   "id": "81f65823-456d-42a8-b3fe-7f024582fd88",
   "metadata": {},
   "outputs": [],
   "source": [
    "# Dot and Cross\n",
    "import numpy\n",
    "d=int (input())\n",
    "arr1=[]\n",
    "arr2=[]\n",
    "for i in range(d):\n",
    "    row=list(map(int,input().split()))\n",
    "    arr1.append(row)\n",
    "new1=numpy.array(arr1)\n",
    "for i in range(d):\n",
    "    row=list(map(int,input().split()))\n",
    "    arr2.append(row)\n",
    "new2=numpy.array(arr2)\n",
    "print(numpy.dot (new1,new2))"
   ]
  },
  {
   "cell_type": "code",
   "execution_count": null,
   "id": "de7eaed3-1f12-42f9-8c43-62423a6c45d9",
   "metadata": {},
   "outputs": [],
   "source": [
    "# Inner and Outer\n",
    "import numpy\n",
    "arr1 =numpy.array(list(map(int,input().split())))\n",
    "arr2 =numpy.array(list(map(int,input().split())))\n",
    "print (numpy.inner(arr1,arr2))\n",
    "print (numpy.outer(arr1,arr2))"
   ]
  },
  {
   "cell_type": "code",
   "execution_count": null,
   "id": "6d6accb9-593e-4003-858b-6866e2547d26",
   "metadata": {},
   "outputs": [],
   "source": [
    "#Polynomials\n",
    "import numpy\n",
    "coef=list(map(float,input().split()))\n",
    "x=int(input())\n",
    "print (numpy.polyval(coef,x))"
   ]
  },
  {
   "cell_type": "code",
   "execution_count": null,
   "id": "e189a60e-7c4c-4a56-9446-055a3e31991c",
   "metadata": {},
   "outputs": [],
   "source": [
    "#Linear Algebra\n",
    "import numpy\n",
    "n=int(input())\n",
    "arr=[]\n",
    "for i in range(n):\n",
    "    row=list(map(float,input().split()))\n",
    "    arr.append(row)\n",
    "new=numpy.array(arr)\n",
    "\n",
    "print (round(numpy.linalg.det(new),2))"
   ]
  },
  {
   "cell_type": "code",
   "execution_count": null,
   "id": "c0916568-650c-4025-8d69-7b20bc39e5d6",
   "metadata": {},
   "outputs": [],
   "source": [
    "#Introduction to Sets\n",
    "def average(array):\n",
    "    # your code goes here\n",
    "    height=set(arr)\n",
    "    average=sum(height)/len(height)\n",
    "    return round(average,3)"
   ]
  },
  {
   "cell_type": "code",
   "execution_count": null,
   "id": "8542eed3-ef4d-48e6-9a9a-55277a900cd0",
   "metadata": {},
   "outputs": [],
   "source": [
    "# Symmetric Difference\n",
    "m=int(input())\n",
    "set1=set(map(int,input().split()))\n",
    "n=int(input())\n",
    "set2=set(map(int,input().split()))\n",
    "result=sorted(set1.symmetric_difference(set2))\n",
    "for i in result:\n",
    "    print (i)"
   ]
  },
  {
   "cell_type": "code",
   "execution_count": null,
   "id": "025ddd63-126d-4477-80c2-e293ccbd7f7f",
   "metadata": {},
   "outputs": [],
   "source": [
    "# No Idea!\n",
    "n,m=map(int,input().split())\n",
    "arr=list(map(int,input().split()))\n",
    "a=set(map(int,input().split()))\n",
    "b=set(map(int,input().split()))\n",
    "count=0\n",
    "for i in arr:\n",
    "    if i in a:\n",
    "        count+=1\n",
    "    if i in b:\n",
    "        count-=1\n",
    "print(count)"
   ]
  },
  {
   "cell_type": "code",
   "execution_count": null,
   "id": "987dad7b-aa24-499c-a3a5-167731c239aa",
   "metadata": {},
   "outputs": [],
   "source": [
    "# Set .add()\n",
    "n=int(input())\n",
    "country=set()\n",
    "for i in range(n):\n",
    "    name=input()\n",
    "    country.add(name)\n",
    "\n",
    "print(len(country))"
   ]
  },
  {
   "cell_type": "code",
   "execution_count": null,
   "id": "a80bb886-d5f0-43c8-8507-c47cd9272a99",
   "metadata": {},
   "outputs": [],
   "source": [
    "# Set .discard(), .remove() & .pop()\n",
    "n = int(input())\n",
    "s = set(map(int, input().split()))\n",
    "N=int(input())\n",
    "if 0<n<20 and 0<N<20:\n",
    "    for i in range(N):\n",
    "        comm=list(input().split())\n",
    "        if comm[0]==\"pop\":\n",
    "            s.pop()\n",
    "        if comm[0]==\"remove\":\n",
    "            s.remove(int(comm[1]))\n",
    "        if comm[0]==\"discard\":\n",
    "            s.discard(int(comm[1]))\n",
    "    print (sum(s))"
   ]
  },
  {
   "cell_type": "code",
   "execution_count": null,
   "id": "c0d240b4-63e2-4741-bd0a-2cb3ba9d55b9",
   "metadata": {},
   "outputs": [],
   "source": [
    "# Set .union() Operation\n",
    "n=int(input())\n",
    "eng=set(map(int,input().split()))\n",
    "b= int(input())\n",
    "fr=set(map(int,input().split()))\n",
    "\n",
    "total=eng.union(fr)\n",
    "print(len(total))"
   ]
  },
  {
   "cell_type": "code",
   "execution_count": null,
   "id": "aeb0e5a6-b73a-4df4-be9d-409ffccb1651",
   "metadata": {},
   "outputs": [],
   "source": [
    "# Set .intersection() Operation\n",
    "n=int(input())\n",
    "eng=set(map(int,input().split()))\n",
    "b= int(input())\n",
    "fr=set(map(int,input().split()))\n",
    "\n",
    "total=eng.intersection(fr)\n",
    "print(len(total))"
   ]
  },
  {
   "cell_type": "code",
   "execution_count": null,
   "id": "529145c7-c427-4d3c-a9db-e13bdca8171f",
   "metadata": {},
   "outputs": [],
   "source": [
    "# Set .difference() Operation\n",
    "n=int(input())\n",
    "eng=set(map(int,input().split()))\n",
    "b= int(input())\n",
    "fr=set(map(int,input().split()))\n",
    "\n",
    "total=eng.difference(fr)\n",
    "print(len(total))"
   ]
  },
  {
   "cell_type": "code",
   "execution_count": null,
   "id": "19d44a67-45fd-412a-b175-c28aa6a3cf2e",
   "metadata": {},
   "outputs": [],
   "source": [
    "# Set .symmetric_difference() Operation\n",
    "n=int(input())\n",
    "eng=set(map(int,input().split()))\n",
    "b= int(input())\n",
    "fr=set(map(int,input().split()))\n",
    "\n",
    "total=eng.symmetric_difference(fr)\n",
    "print(len(total))"
   ]
  },
  {
   "cell_type": "code",
   "execution_count": null,
   "id": "fcd2a73a-f8ab-4303-9cce-ed9e618525d2",
   "metadata": {},
   "outputs": [],
   "source": [
    "# Set Mutations\n",
    "n=int(input())\n",
    "A=set(map(int,input().split()))\n",
    "N=int(input())\n",
    "for i in range(N):\n",
    "    com=input().split()\n",
    "    new=set(map(int,input().split()))\n",
    "    if com[0]==\"intersection_update\":\n",
    "        A.intersection_update(new)\n",
    "    if com[0]==\"update\":\n",
    "        A.update(new)\n",
    "    if com[0]==\"symmetric_difference_update\":\n",
    "        A.symmetric_difference_update(new)\n",
    "    if com[0]==\"difference_update\":\n",
    "        A.difference_update(new)\n",
    "print(sum(A))"
   ]
  },
  {
   "cell_type": "code",
   "execution_count": null,
   "id": "9b688d0c-7243-4260-aced-d78aa71bb887",
   "metadata": {},
   "outputs": [],
   "source": [
    "# The Captain's Room\n",
    "k=int(input())\n",
    "size=list(map(int,input().split()))\n",
    "set_size=set(size)\n",
    "sum_list=sum(size)\n",
    "sum_set=sum(set_size)*k\n",
    "diff= sum_set - sum_list\n",
    "for i in set_size:\n",
    "    if diff==((k-1)*i):\n",
    "        print(i)\n",
    "        break"
   ]
  },
  {
   "cell_type": "code",
   "execution_count": null,
   "id": "32afec0d-4c30-49f6-a3a1-c5151b8835d3",
   "metadata": {},
   "outputs": [],
   "source": [
    "# Check Subset\n",
    "T=int(input())\n",
    "for i in range(T):\n",
    "    a=int(input())\n",
    "    set_a=set(map(int,input().split()))\n",
    "    b=int(input())\n",
    "    set_b=set(map(int,input().split()))\n",
    "    if set_a.intersection(set_b)==set_a:\n",
    "        print(\"True\")\n",
    "    else:\n",
    "        print(\"False\")"
   ]
  },
  {
   "cell_type": "code",
   "execution_count": null,
   "id": "023f484a-12a3-4d88-b24d-6cec598d3d62",
   "metadata": {},
   "outputs": [],
   "source": [
    "# Check Strict Superset\n",
    "A=set(map(int,input().split()))\n",
    "n=int(input())\n",
    "check= True\n",
    "for i in range(n):\n",
    "    other=set(map(int,input().split()))\n",
    "    if not A.issuperset(other):\n",
    "        check=False\n",
    "print(check)"
   ]
  },
  {
   "cell_type": "code",
   "execution_count": null,
   "id": "89ff5284-7029-48c6-9b9a-d76ed6a841ed",
   "metadata": {},
   "outputs": [],
   "source": [
    "# Calendar Module\n",
    "import calendar \n",
    "month,day,year=list(map(int,input().split()))\n",
    "day=calendar.day_name[calendar.weekday(year,month,day)]\n",
    "print(day.upper())"
   ]
  },
  {
   "cell_type": "code",
   "execution_count": null,
   "id": "d821c159-7ddf-474d-b07f-d554b815ac5c",
   "metadata": {},
   "outputs": [],
   "source": [
    "# Zipped!\n",
    "x=input().split()\n",
    "s=[]\n",
    "for i in range(int(x[1])):\n",
    "    s.append(map(float,input().split()))\n",
    "for i in zip(*s):\n",
    "    print(sum(i)/len(i))"
   ]
  },
  {
   "cell_type": "code",
   "execution_count": null,
   "id": "78d97179-990a-4494-8fe8-56b3a5e876c5",
   "metadata": {},
   "outputs": [],
   "source": [
    "# Map and Lambda Function\n",
    "cube = lambda x: x**3 # complete the lambda function \n",
    "\n",
    "def fibonacci(n):\n",
    "    # return a list of fibonacci numbers\n",
    "    l=[0,1]\n",
    "    \n",
    "    for i in range(2,n):\n",
    "        l.append(l[i-1]+l[i-2])\n",
    "    return(l[0:n])"
   ]
  },
  {
   "cell_type": "code",
   "execution_count": null,
   "id": "0d8ff07d-a4d1-4125-a80a-c937a3ae81d5",
   "metadata": {},
   "outputs": [],
   "source": [
    "# Tuples\n",
    "if __name__ == '__main__':\n",
    "    n = int(input())\n",
    "    integer_list = map(int, input().split())\n",
    "    t=tuple(integer_list)\n",
    "    sol=hash(t)\n",
    "    print(sol)"
   ]
  },
  {
   "cell_type": "code",
   "execution_count": null,
   "id": "a477b4d1-354a-4471-992a-0003720e1947",
   "metadata": {},
   "outputs": [],
   "source": [
    "# Nested Lists\n",
    "if __name__ == '__main__':\n",
    "    students = []\n",
    "    l_score = []\n",
    "    l_names = []\n",
    "    for _ in range(int(input())):\n",
    "        name = input()\n",
    "        score = float(input())\n",
    "        l_score.append(score)\n",
    "        students.append([name, score])\n",
    "    m = min(l_score)\n",
    "    l_score.sort()\n",
    "    i=1\n",
    "    while l_score[i] == m:\n",
    "        i+=1\n",
    "    sec = l_score[i]\n",
    "    for j in students :\n",
    "        if j[1] == sec:\n",
    "            l_names.append(j[0])\n",
    "    l_names.sort()\n",
    "    for k in l_names:\n",
    "        print(k)"
   ]
  },
  {
   "cell_type": "code",
   "execution_count": null,
   "id": "a818be8b-fdb9-4e9a-bedc-14968fca6fdb",
   "metadata": {},
   "outputs": [],
   "source": [
    "# Alphabet Rangoli\n",
    "def print_rangoli(size):\n",
    "    # your code goes here\n",
    "    A = list(\"abcdefghijklmnopqrstuvwxyz\")\n",
    "    A = A[:size]\n",
    "    B = A[1:size]\n",
    "    B.sort(reverse = True)\n",
    "    C = B + A\n",
    "\n",
    "    width = (len(C)*2) -1\n",
    "\n",
    "    for i in range(size-1):\n",
    "        b = B + A\n",
    "        for j in range((size-1)*2 -(i*2)):\n",
    "            b.pop(1+i)\n",
    "        print(\"-\".join(b).center(width, '-'))\n",
    "  \n",
    "    print(\"-\".join(C).center(width, '-'))\n",
    "\n",
    "    for i in range(size-1):\n",
    "        C.pop(size-1-i)\n",
    "        C.pop(size-1-i)\n",
    "        print(\"-\".join(C).center(width, '-'))"
   ]
  },
  {
   "cell_type": "code",
   "execution_count": null,
   "id": "280d54df-5dc2-4b00-8ff9-d9501812f03c",
   "metadata": {},
   "outputs": [],
   "source": [
    "# Capitalize!\n",
    "def solve(s):\n",
    "    name = s.split(' ')\n",
    "    output =[]\n",
    "    for i in range(len(name)):\n",
    "        output.append(name[i].capitalize())\n",
    "    k = ' '.join(output)\n",
    "    return k"
   ]
  },
  {
   "cell_type": "code",
   "execution_count": null,
   "id": "d9f799aa-36cc-42eb-bea1-2a8a420c7c32",
   "metadata": {},
   "outputs": [],
   "source": [
    "# Merge the Tools!\n",
    "def merge_the_tools(string, k):\n",
    "    # your code goes here\n",
    "    d = len(string)//k\n",
    "    i=0\n",
    "    for i in range(d):\n",
    "        dist = []\n",
    "        new = list(string[(i*k):(i*k+k)])\n",
    "        for j in new:\n",
    "            if j not in dist:\n",
    "                dist.append(j)\n",
    "        print(\"\".join(map(str,dist)))"
   ]
  },
  {
   "cell_type": "code",
   "execution_count": null,
   "id": "3aaf1fae-7b2c-4258-a4dc-3ddedee98f47",
   "metadata": {},
   "outputs": [],
   "source": [
    "#collections.Counter()\n",
    "import collections\n",
    "\n",
    "n = int(input())\n",
    "size = collections.Counter(map(int, input().split()))\n",
    "N = int(input())\n",
    "total = 0\n",
    "for i in range(N):\n",
    "    s, price = map(int, input().split())\n",
    "    if size[s] > 0:\n",
    "        size[s] -= 1\n",
    "        total += price\n",
    "print(total)"
   ]
  },
  {
   "cell_type": "code",
   "execution_count": null,
   "id": "f8422367-3028-440c-a7ec-5341772029be",
   "metadata": {},
   "outputs": [],
   "source": [
    "#DefaultDict Tutorial\n",
    "from collections import defaultdict\n",
    "d = defaultdict(list)\n",
    "\n",
    "n,m = map(int, input().split())\n",
    "\n",
    "for i in range(n):\n",
    "    A = input()\n",
    "    d[A].append(str(i+1))\n",
    "for i in range(m):\n",
    "    B = input()\n",
    "    if B in d:\n",
    "        print(' '.join(d[B]))\n",
    "    else:\n",
    "        print(\"-1\")"
   ]
  },
  {
   "cell_type": "code",
   "execution_count": null,
   "id": "0d40c0f2-8d66-4458-a982-4d735b703d0b",
   "metadata": {},
   "outputs": [],
   "source": [
    "#Collections.namedtuple()\n",
    "from collections import namedtuple\n",
    "\n",
    "n=int(input())\n",
    "names= namedtuple('names', input().split())\n",
    "marks=0\n",
    "for i in range(n):\n",
    "    st=  names(*(input().split()))\n",
    "    marks+= int(st.MARKS)\n",
    "print(marks/n)"
   ]
  },
  {
   "cell_type": "code",
   "execution_count": null,
   "id": "46bebd92-c2b0-4bb4-af9b-4afc734e7ff3",
   "metadata": {},
   "outputs": [],
   "source": [
    "#Collections.OrderedDict()\n",
    "from collections import OrderedDict\n",
    "n= int(input())\n",
    "sol= OrderedDict()\n",
    "for i in range(n):\n",
    "    a = input().split()\n",
    "    price= int(a[-1])\n",
    "    name= \" \".join(a[:-1])\n",
    "    if sol.get(name):                \n",
    "       sol[name] += price\n",
    "    else:\n",
    "       sol[name] = price\n",
    "for i in sol.keys():\n",
    "    print (i, sol[i])"
   ]
  },
  {
   "cell_type": "code",
   "execution_count": null,
   "id": "9be17f61-d674-477e-aec4-1b5f00bc87eb",
   "metadata": {},
   "outputs": [],
   "source": [
    "# Word Order\n",
    "from collections import OrderedDict\n",
    "\n",
    "n = int(input())\n",
    "dic = OrderedDict()\n",
    "\n",
    "for i in range(n):\n",
    "    w = input()\n",
    "    if w not in dic.keys():\n",
    "        dic[w] = 1\n",
    "    else:\n",
    "        dic[w] += 1\n",
    "    \n",
    "print(len(dic.keys()))\n",
    "\n",
    "print(\" \".join(map(str, dic.values())))"
   ]
  },
  {
   "cell_type": "code",
   "execution_count": null,
   "id": "83bf7a7b-cb57-45bb-a99e-415e532d0425",
   "metadata": {},
   "outputs": [],
   "source": [
    "# Collections.deque()\n",
    "from collections import deque\n",
    "n = int(input())\n",
    "d = deque()\n",
    "for i in range(n):\n",
    "    comm = input().split()\n",
    "    if comm[0] == \"pop\":\n",
    "        d.pop()\n",
    "    elif comm[0] == \"popleft\":\n",
    "        d.popleft()\n",
    "    elif comm[0] == \"append\":\n",
    "        d.append(comm[1])\n",
    "    else:\n",
    "        d.appendleft(comm[1])\n",
    "print(\" \".join(d))"
   ]
  },
  {
   "cell_type": "code",
   "execution_count": null,
   "id": "df29f16c-51f5-426e-a6db-e37222931c65",
   "metadata": {},
   "outputs": [],
   "source": [
    "# Piling Up!\n",
    "from collections import deque\n",
    "\n",
    "T=int(input())\n",
    "for i in range(T):\n",
    "    \n",
    "    n=int(input())\n",
    "    block=deque(map(int, input().split()))\n",
    "    maximum = max(block)\n",
    "\n",
    "    if (maximum == block[0] or maximum == block[-1]):\n",
    "        print('Yes')\n",
    "    else:\n",
    "        print('No')"
   ]
  },
  {
   "cell_type": "code",
   "execution_count": null,
   "id": "2783695a-3eb8-4ef9-ad6a-24b08a58e5da",
   "metadata": {},
   "outputs": [],
   "source": [
    "# Company Logo\n",
    "import math\n",
    "import os\n",
    "import random\n",
    "import re\n",
    "import sys\n",
    "\n",
    "from collections import Counter\n",
    "\n",
    "if __name__ == '__main__':\n",
    "    s = input()\n",
    "    s = sorted(s)\n",
    "    n = Counter(s)\n",
    "    common = n.most_common(3)\n",
    "    for i in common:\n",
    "        print(i[0], i[1])"
   ]
  },
  {
   "cell_type": "code",
   "execution_count": null,
   "id": "b1f87375-ab5a-4662-8c83-b3cc8286c1c6",
   "metadata": {},
   "outputs": [],
   "source": [
    "# XML 1 - Find the Score\n",
    "def get_attr_number(node):\n",
    "    # your code goes here\n",
    "    score=0\n",
    "    for child in node:\n",
    "        score+=get_attr_number(child)\n",
    "    return (len(node.attrib)+score)"
   ]
  },
  {
   "cell_type": "code",
   "execution_count": null,
   "id": "aac9e58f-1179-4e5f-8710-6c2179339475",
   "metadata": {},
   "outputs": [],
   "source": [
    "# XML2 - Find the Maximum Depth\n",
    "maxdepth = 0\n",
    "def depth(elem, level):\n",
    "    global maxdepth\n",
    "    # your code goes here\n",
    "    if (level== maxdepth):\n",
    "        maxdepth+=1\n",
    "    for i in elem:\n",
    "        depth(i,level + 1)\n"
   ]
  },
  {
   "cell_type": "code",
   "execution_count": null,
   "id": "83969d12-f62b-4bfc-aba7-34abebf9a10c",
   "metadata": {},
   "outputs": [],
   "source": [
    "# Exceptions\n",
    "n = int(input())\n",
    "for _ in range(n):\n",
    "    a, b = input().split()\n",
    "    try:\n",
    "        print(int(a) // int(b))\n",
    "    except Exception as e:\n",
    "        print(f\"Error Code: {e}\")"
   ]
  },
  {
   "cell_type": "code",
   "execution_count": null,
   "id": "f4c22cd1-59b3-4c3a-94a1-378a402d3c5a",
   "metadata": {},
   "outputs": [],
   "source": [
    "# Detect Floating Point Number\n",
    " import re\n",
    "\n",
    "pattern = re.compile('^[-+]?[0-9]*\\.[0-9]+$')\n",
    "        \n",
    "n=int(input())\n",
    "\n",
    "for i in range(n):\n",
    "    s=input()\n",
    "    if pattern.match(s):\n",
    "        print(True)\n",
    "    else:\n",
    "        print(False)"
   ]
  },
  {
   "cell_type": "code",
   "execution_count": null,
   "id": "4a76f152-4c52-4254-b441-aae38a442b2f",
   "metadata": {},
   "outputs": [],
   "source": [
    "# Re.split()\n",
    "regex_pattern = r\"\"\t# Do not delete 'r'.\n",
    "\n",
    "regex_pattern = r'[.,]+'"
   ]
  },
  {
   "cell_type": "code",
   "execution_count": null,
   "id": "af4d5dfc-c02c-4b5d-bbcc-8ecd5c7b7db3",
   "metadata": {},
   "outputs": [],
   "source": [
    "# Group(), Groups() & Groupdict()\n",
    "s=input()\n",
    "sol=[]\n",
    "solution=\"\"\n",
    "for i in range(len(s)-1):\n",
    "    if s[i].isalnum():\n",
    "        if s[i] is s[i+1]:\n",
    "            solution=s[i]\n",
    "            break\n",
    "if not solution:\n",
    "    print (\"-1\")\n",
    "else:\n",
    "    print(solution)"
   ]
  },
  {
   "cell_type": "code",
   "execution_count": null,
   "id": "656a1a25-480d-4c1b-beef-2041d90ddf18",
   "metadata": {},
   "outputs": [],
   "source": [
    "# Validating phone numbers\n",
    "n=int(input())\n",
    "\n",
    "for i in range(n):\n",
    "    a=\"YES\"\n",
    "    k=input()\n",
    "    if (k[0]=='7' or k[0]=='8' or k[0]=='9') and (len(k)==10):\n",
    "        for j in k:\n",
    "            if not j.isdigit():\n",
    "                a=\"NO\"\n",
    "                break\n",
    "    else:\n",
    "        a=\"NO\"\n",
    "    print(a)  "
   ]
  },
  {
   "cell_type": "markdown",
   "id": "05048d86-c7c0-4501-8750-5586cc070354",
   "metadata": {},
   "source": [
    "Problem 2:"
   ]
  },
  {
   "cell_type": "code",
   "execution_count": null,
   "id": "f31e9527-fc57-4d2e-889c-5f258150d171",
   "metadata": {},
   "outputs": [],
   "source": [
    "#Birthday Cake Candles\n",
    "import math\n",
    "import os\n",
    "import random\n",
    "import re\n",
    "import sys\n",
    "\n",
    "def birthdayCakeCandles(candles):\n",
    "    # Write your code here\n",
    "    tallest=max(candles)\n",
    "    return(candles.count(tallest))\n",
    "\n",
    "if __name__ == '__main__':\n",
    "    fptr = open(os.environ['OUTPUT_PATH'], 'w')\n",
    "\n",
    "    candles_count = int(input().strip())\n",
    "\n",
    "    candles = list(map(int, input().rstrip().split()))\n",
    "\n",
    "    result = birthdayCakeCandles(candles)\n",
    "\n",
    "    fptr.write(str(result) + '\\n')\n",
    "\n",
    "    fptr.close()"
   ]
  },
  {
   "cell_type": "code",
   "execution_count": null,
   "id": "ff20a72b-6b8f-4bfc-bedb-380e33d274c6",
   "metadata": {},
   "outputs": [],
   "source": [
    "# Number Line Jumps\n",
    "import math\n",
    "import os\n",
    "import random\n",
    "import re\n",
    "import sys\n",
    "\n",
    "def kangaroo(x1, v1, x2, v2):\n",
    "    # Write your code here\n",
    "    if v1<= v2:\n",
    "        return('NO')\n",
    "    while x1<=x2:\n",
    "        if x1==x2:\n",
    "            return('YES')\n",
    "        x1+=v1\n",
    "        x2 +=v2\n",
    "    return('NO')\n",
    "\n",
    "if __name__ == '__main__':\n",
    "    fptr = open(os.environ['OUTPUT_PATH'], 'w')\n",
    "\n",
    "    first_multiple_input = input().rstrip().split()\n",
    "\n",
    "    x1 = int(first_multiple_input[0])\n",
    "\n",
    "    v1 = int(first_multiple_input[1])\n",
    "\n",
    "    x2 = int(first_multiple_input[2])\n",
    "\n",
    "    v2 = int(first_multiple_input[3])\n",
    "\n",
    "    result = kangaroo(x1, v1, x2, v2)\n",
    "\n",
    "    fptr.write(result + '\\n')\n",
    "\n",
    "    fptr.close()"
   ]
  },
  {
   "cell_type": "code",
   "execution_count": null,
   "id": "f1d59152-d9ba-49ba-9827-799bf6830839",
   "metadata": {},
   "outputs": [],
   "source": [
    "# Recursive Digit Sum\n",
    "import math\n",
    "import os\n",
    "import random\n",
    "import re\n",
    "import sys\n",
    "\n",
    "def superDigit(n, k):\n",
    "    # Write your code here\n",
    "    if (k==1 and len(n)==1):\n",
    "        return n\n",
    "    else:\n",
    "        p=0\n",
    "        for i in n:\n",
    "            p+=int(i)\n",
    "        return superDigit(str(p*k),1)\n",
    "\n",
    "if __name__ == '__main__':\n",
    "    fptr = open(os.environ['OUTPUT_PATH'], 'w')\n",
    "\n",
    "    first_multiple_input = input().rstrip().split()\n",
    "\n",
    "    n = first_multiple_input[0]\n",
    "\n",
    "    k = int(first_multiple_input[1])\n",
    "\n",
    "    result = superDigit(n, k)\n",
    "\n",
    "    fptr.write(str(result) + '\\n')\n",
    "\n",
    "    fptr.close()"
   ]
  },
  {
   "cell_type": "code",
   "execution_count": null,
   "id": "624242fa-99b3-4959-bfa7-8574c000bb2a",
   "metadata": {},
   "outputs": [],
   "source": [
    "# Viral Advertising\n",
    "#!/bin/python3\n",
    "\n",
    "import math\n",
    "import os\n",
    "import random\n",
    "import re\n",
    "import sys\n",
    "\n",
    "#\n",
    "# Complete the 'viralAdvertising' function below.\n",
    "#\n",
    "# The function is expected to return an INTEGER.\n",
    "# The function accepts INTEGER n as parameter.\n",
    "#\n",
    "\n",
    "def viralAdvertising(n):\n",
    "    # Write your code here\n",
    "\n",
    "if __name__ == '__main__':\n",
    "    fptr = open(os.environ['OUTPUT_PATH'], 'w')\n",
    "\n",
    "    n = int(input().strip())\n",
    "\n",
    "    result = viralAdvertising(n)\n",
    "\n",
    "    fptr.write(str(result) + '\\n')\n",
    "\n",
    "    fptr.close()"
   ]
  }
 ],
 "metadata": {
  "kernelspec": {
   "display_name": "Python 3 (ipykernel)",
   "language": "python",
   "name": "python3"
  },
  "language_info": {
   "codemirror_mode": {
    "name": "ipython",
    "version": 3
   },
   "file_extension": ".py",
   "mimetype": "text/x-python",
   "name": "python",
   "nbconvert_exporter": "python",
   "pygments_lexer": "ipython3",
   "version": "3.11.4"
  }
 },
 "nbformat": 4,
 "nbformat_minor": 5
}
